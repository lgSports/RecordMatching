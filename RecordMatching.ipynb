{
 "cells": [
  {
   "cell_type": "code",
   "execution_count": 3,
   "id": "d062f506-48e2-4e4f-8145-d144a9a71bc2",
   "metadata": {},
   "outputs": [
    {
     "name": "stdin",
     "output_type": "stream",
     "text": [
      "Enter First Name:  John\n",
      "Enter Last Name:  Doe\n",
      "Enter Email Address:  john.d@example.com\n",
      "Enter Postal Code:  12345\n",
      "Enter Date of Birth (DD/MM/YYYY):  01/01/1990\n"
     ]
    },
    {
     "name": "stdout",
     "output_type": "stream",
     "text": [
      "Potential record match with a similarity of 96.84%:\n",
      "first_name                    John\n",
      "last_name                      Doe\n",
      "email         john.doe@example.com\n",
      "postcode                     12345\n",
      "birthdate               01/01/1990\n",
      "Name: 0, dtype: object\n"
     ]
    }
   ],
   "source": [
    "import pandas as pd\n",
    "from sklearn.feature_extraction.text import TfidfVectorizer\n",
    "from sklearn.metrics.pairwise import cosine_similarity\n",
    "\n",
    "# Existing dataset\n",
    "data = pd.DataFrame({\n",
    "    'first_name': ['John', 'Jane', 'Alice'],\n",
    "    'last_name': ['Doe', 'Smith', 'Johnson'],        \n",
    "    'email': ['john.doe@example.com', 'jane.smith@example.com', 'alice.j@example.com'],\n",
    "    'postcode': ['12345', '23456', '34567'],\n",
    "    'birthdate': ['01/01/1990', '02/02/1985', '03/03/1992']\n",
    "})\n",
    "\n",
    "# Function to combine DataFrame rows into a single string\n",
    "def combine_rows(df):\n",
    "    return df.apply(lambda x: ' '.join(x.astype(str)), axis=1)\n",
    "\n",
    "# Ask user for input\n",
    "user_input = {\n",
    "    'first_name': input(\"Enter First Name: \"),\n",
    "    'last_name': input(\"Enter Last Name: \"),\n",
    "    'email': input(\"Enter Email Address: \"),\n",
    "    'postcode': input(\"Enter Postal Code: \"),\n",
    "    'birthdate': input(\"Enter Date of Birth (DD/MM/YYYY): \")\n",
    "}\n",
    "user_data = ' '.join(user_input.values())\n",
    "\n",
    "# Combine existing data for comparison\n",
    "combined_data = combine_rows(data)\n",
    "\n",
    "# Vectorize and calculate similarity\n",
    "vectorizer = TfidfVectorizer()\n",
    "vectorized_data = vectorizer.fit_transform(combined_data)\n",
    "user_vector = vectorizer.transform([user_data])\n",
    "similarity_scores = cosine_similarity(user_vector, vectorized_data).flatten()\n",
    "\n",
    "# Find potential match\n",
    "max_similarity = max(similarity_scores)\n",
    "similarity_percentage = max_similarity * 100  # Convert to percentage\n",
    "\n",
    "if max_similarity > 0.7:\n",
    "    match_index = similarity_scores.argmax()\n",
    "    print(f\"Potential record match with a similarity of {similarity_percentage:.2f}%:\")\n",
    "    print(data.iloc[match_index])\n",
    "else:\n",
    "    print(f\"No record match. Highest similarity: {similarity_percentage:.2f}%.\")\n"
   ]
  },
  {
   "cell_type": "code",
   "execution_count": null,
   "id": "c217d016-57c5-4db2-9bbf-fccf14d6b31b",
   "metadata": {},
   "outputs": [],
   "source": []
  }
 ],
 "metadata": {
  "kernelspec": {
   "display_name": "Python 3 (ipykernel)",
   "language": "python",
   "name": "python3"
  },
  "language_info": {
   "codemirror_mode": {
    "name": "ipython",
    "version": 3
   },
   "file_extension": ".py",
   "mimetype": "text/x-python",
   "name": "python",
   "nbconvert_exporter": "python",
   "pygments_lexer": "ipython3",
   "version": "3.12.1"
  }
 },
 "nbformat": 4,
 "nbformat_minor": 5
}
